{
 "cells": [
  {
   "cell_type": "code",
   "execution_count": 1,
   "metadata": {},
   "outputs": [],
   "source": [
    "%matplotlib inline\n",
    "from matplotlib.pyplot import *"
   ]
  },
  {
   "cell_type": "code",
   "execution_count": 2,
   "metadata": {},
   "outputs": [],
   "source": [
    "import os\n",
    "import sys\n",
    "sys.path.append('../config')"
   ]
  },
  {
   "cell_type": "code",
   "execution_count": 10,
   "metadata": {},
   "outputs": [],
   "source": [
    "from refractor.factory import process_config\n",
    "from refractor import framework as rf\n",
    "from refractor.factory import creator, param"
   ]
  },
  {
   "cell_type": "code",
   "execution_count": 4,
   "metadata": {},
   "outputs": [],
   "source": [
    "from retrieval_config import retrieval_config_definition"
   ]
  },
  {
   "cell_type": "code",
   "execution_count": 5,
   "metadata": {},
   "outputs": [],
   "source": [
    "data_dir = os.path.realpath('../test/in')\n",
    "l1b_file = os.path.join(data_dir, \"oco2_L1bScND_16094a_170711_B7302r_171102090317-selected_ids.h5\")\n",
    "met_file = os.path.join(data_dir, \"oco2_L2MetND_16094a_170711_B8000r_171017214714-selected_ids.h5\")\n",
    "\n",
    "sounding_id = \"2017071110541471\""
   ]
  },
  {
   "cell_type": "code",
   "execution_count": 6,
   "metadata": {
    "scrolled": false
   },
   "outputs": [],
   "source": [
    "config_def = retrieval_config_definition(l1b_file, met_file, sounding_id)"
   ]
  },
  {
   "cell_type": "code",
   "execution_count": 35,
   "metadata": {},
   "outputs": [],
   "source": [
    "class WaterInLog(creator.base.Creator):\n",
    "    met = param.InstanceOf(rf.Meteorology)\n",
    "    \n",
    "    def create(self, **kwargs):\n",
    "        gas_name = \"H2O\"\n",
    "        met = self.met()\n",
    "        pressure = met.pressure_levels\n",
    "        vmr_profile = met.vmr(gas_name)\n",
    "        press_obj = rf.PressureSigma(pressure, pressure[-1], False)\n",
    "        ret_flag = np.ones(vmr_profile.shape, dtype=bool)\n",
    "        return rf.AbsorberVmrLevelLog(press_obj, vmr_profile, ret_flag, gas_name)"
   ]
  },
  {
   "cell_type": "code",
   "execution_count": 36,
   "metadata": {},
   "outputs": [],
   "source": [
    "config_def['atmosphere']['absorber']['H2O']['vmr']['creator'] = WaterInLog"
   ]
  },
  {
   "cell_type": "code",
   "execution_count": 49,
   "metadata": {},
   "outputs": [],
   "source": [
    "class AddWaterCov(creator.value.LoadValuesFromHDF):\n",
    "    met = param.InstanceOf(rf.Meteorology)\n",
    "    \n",
    "    def create(self, **kwargs):\n",
    "        cov_dict = super().create(**kwargs)\n",
    "        \n",
    "        gas_name = \"H2O\"\n",
    "        met = self.met()\n",
    "        vmr_profile = met.vmr(gas_name)\n",
    "        \n",
    "        h2o_cov = np.zeros((vmr_profile.shape[0], vmr_profile.shape[0]))\n",
    "        np.fill_diagonal(h2o_cov, 1.0)\n",
    "        \n",
    "        cov_dict['absorber_log_levels/H2O'] = h2o_cov\n",
    "        \n",
    "        return cov_dict"
   ]
  },
  {
   "cell_type": "code",
   "execution_count": 50,
   "metadata": {},
   "outputs": [],
   "source": [
    "config_def['retrieval']['covariance']['values']['creator'] = AddWaterCov"
   ]
  },
  {
   "cell_type": "code",
   "execution_count": 52,
   "metadata": {},
   "outputs": [],
   "source": [
    "config_inst = process_config(config_def)"
   ]
  },
  {
   "cell_type": "markdown",
   "metadata": {},
   "source": [
    "----"
   ]
  },
  {
   "cell_type": "code",
   "execution_count": 53,
   "metadata": {},
   "outputs": [],
   "source": [
    "fm = config_inst.forward_model\n",
    "atm = config_inst.atmosphere\n",
    "sv = config_inst.retrieval.state_vector\n",
    "solver = config_inst.retrieval.solver"
   ]
  },
  {
   "cell_type": "code",
   "execution_count": 54,
   "metadata": {},
   "outputs": [],
   "source": [
    "def plot_fm(channel_idx):\n",
    "    low_res_grid = fm.spectral_grid.low_resolution_grid(channel_idx).data\n",
    "    l1b_grid = config_inst.instrument.pixel_spectral_domain(0).data\n",
    "    l1b = config_inst.input.l1b\n",
    "    rad = fm.radiance(channel_idx)\n",
    "    plot(l1b_grid, l1b.radiance(channel_idx).data)\n",
    "    plot(low_res_grid, rad.spectral_range.data)\n",
    "    ylabel(\"$ mW / sr / m^2 / cm^{-1} $\")\n",
    "    xlabel(\"Wavenumber (cm^-1)\")\n",
    "    legend(['measured', 'modeled'], loc='best')"
   ]
  },
  {
   "cell_type": "code",
   "execution_count": 55,
   "metadata": {
    "scrolled": false
   },
   "outputs": [
    {
     "name": "stdout",
     "output_type": "stream",
     "text": [
      "0.0003928963 CO2 VMR for Press Lvl 1\n",
      "0.0003996816 CO2 VMR for Press Lvl 2\n",
      "0.0004028708 CO2 VMR for Press Lvl 3\n",
      "0.0004032563 CO2 VMR for Press Lvl 4\n",
      "0.0004032365 CO2 VMR for Press Lvl 5\n",
      "0.0004032166 CO2 VMR for Press Lvl 6\n",
      "0.0004031972 CO2 VMR for Press Lvl 7\n",
      "0.0004031773 CO2 VMR for Press Lvl 8\n",
      "0.0004031568 CO2 VMR for Press Lvl 9\n",
      "0.0004031357 CO2 VMR for Press Lvl 10\n",
      "0.0004031140 CO2 VMR for Press Lvl 11\n",
      "0.0004030914 CO2 VMR for Press Lvl 12\n",
      "0.0004030685 CO2 VMR for Press Lvl 13\n",
      "0.0004030445 CO2 VMR for Press Lvl 14\n",
      "0.0004030201 CO2 VMR for Press Lvl 15\n",
      "0.0004029951 CO2 VMR for Press Lvl 16\n",
      "0.0004029690 CO2 VMR for Press Lvl 17\n",
      "0.0004029422 CO2 VMR for Press Lvl 18\n",
      "0.0004029145 CO2 VMR for Press Lvl 19\n",
      "0.0004028862 CO2 VMR for Press Lvl 20\n",
      "-12.4295777306 H2O Log VMR for Press Lvl 1\n",
      "-12.1649119675 H2O Log VMR for Press Lvl 2\n",
      "-12.0296920332 H2O Log VMR for Press Lvl 3\n",
      "-11.9846578163 H2O Log VMR for Press Lvl 4\n",
      "-11.9389941814 H2O Log VMR for Press Lvl 5\n",
      "-11.9158941635 H2O Log VMR for Press Lvl 6\n",
      "-11.9049697442 H2O Log VMR for Press Lvl 7\n",
      "-11.8955534687 H2O Log VMR for Press Lvl 8\n",
      "-11.8942716069 H2O Log VMR for Press Lvl 9\n",
      "-11.8943642152 H2O Log VMR for Press Lvl 10\n",
      "-11.8978038578 H2O Log VMR for Press Lvl 11\n",
      "-11.9023866917 H2O Log VMR for Press Lvl 12\n",
      "-11.9084510100 H2O Log VMR for Press Lvl 13\n",
      "-11.9158294027 H2O Log VMR for Press Lvl 14\n",
      "-11.9199186428 H2O Log VMR for Press Lvl 15\n",
      "-11.9264460374 H2O Log VMR for Press Lvl 16\n",
      "-11.9347953596 H2O Log VMR for Press Lvl 17\n",
      "-11.9425941272 H2O Log VMR for Press Lvl 18\n",
      "-11.9551837663 H2O Log VMR for Press Lvl 19\n",
      "-11.9827294242 H2O Log VMR for Press Lvl 20\n",
      "-12.0222145021 H2O Log VMR for Press Lvl 21\n",
      "-12.0699951160 H2O Log VMR for Press Lvl 22\n",
      "-12.1134086750 H2O Log VMR for Press Lvl 23\n",
      "-12.1613463709 H2O Log VMR for Press Lvl 24\n",
      "-12.2106693135 H2O Log VMR for Press Lvl 25\n",
      "-12.2363170670 H2O Log VMR for Press Lvl 26\n",
      "-12.2603362069 H2O Log VMR for Press Lvl 27\n",
      "-12.2788834518 H2O Log VMR for Press Lvl 28\n",
      "-12.2821000063 H2O Log VMR for Press Lvl 29\n",
      "-12.2824803218 H2O Log VMR for Press Lvl 30\n",
      "-12.2880739861 H2O Log VMR for Press Lvl 31\n",
      "-12.2993307833 H2O Log VMR for Press Lvl 32\n",
      "-12.3094556662 H2O Log VMR for Press Lvl 33\n",
      "-12.3250154031 H2O Log VMR for Press Lvl 34\n",
      "-12.3555042177 H2O Log VMR for Press Lvl 35\n",
      "-12.3502301585 H2O Log VMR for Press Lvl 36\n",
      "-12.2178844337 H2O Log VMR for Press Lvl 37\n",
      "-12.0649281313 H2O Log VMR for Press Lvl 38\n",
      "-11.7377723621 H2O Log VMR for Press Lvl 39\n",
      "-11.4269939356 H2O Log VMR for Press Lvl 40\n",
      "-11.2183536113 H2O Log VMR for Press Lvl 41\n",
      "-9.6716258707 H2O Log VMR for Press Lvl 42\n",
      "-9.2373612206 H2O Log VMR for Press Lvl 43\n",
      "-8.9750985633 H2O Log VMR for Press Lvl 44\n",
      "-9.2419103296 H2O Log VMR for Press Lvl 45\n",
      "-9.2791838727 H2O Log VMR for Press Lvl 46\n",
      "-9.0108195214 H2O Log VMR for Press Lvl 47\n",
      "-8.9129157680 H2O Log VMR for Press Lvl 48\n",
      "-9.0877584719 H2O Log VMR for Press Lvl 49\n",
      "-8.5546809656 H2O Log VMR for Press Lvl 50\n",
      "-8.1624980490 H2O Log VMR for Press Lvl 51\n",
      "-7.9689365364 H2O Log VMR for Press Lvl 52\n",
      "-7.4499129431 H2O Log VMR for Press Lvl 53\n",
      "-7.2315600441 H2O Log VMR for Press Lvl 54\n",
      "-7.1222141474 H2O Log VMR for Press Lvl 55\n",
      "-6.7515109046 H2O Log VMR for Press Lvl 56\n",
      "-5.7273986757 H2O Log VMR for Press Lvl 57\n",
      "-5.4244542591 H2O Log VMR for Press Lvl 58\n",
      "-4.9795517717 H2O Log VMR for Press Lvl 59\n",
      "-4.5814888396 H2O Log VMR for Press Lvl 60\n",
      "-4.3037120032 H2O Log VMR for Press Lvl 61\n",
      "-4.2100958016 H2O Log VMR for Press Lvl 62\n",
      "-4.2151284717 H2O Log VMR for Press Lvl 63\n",
      "-4.2201483640 H2O Log VMR for Press Lvl 64\n",
      "-4.2107602149 H2O Log VMR for Press Lvl 65\n",
      "-4.1591572248 H2O Log VMR for Press Lvl 66\n",
      "-4.0888896312 H2O Log VMR for Press Lvl 67\n",
      "-4.0428664953 H2O Log VMR for Press Lvl 68\n",
      "-4.0214039388 H2O Log VMR for Press Lvl 69\n",
      "-4.0082055356 H2O Log VMR for Press Lvl 70\n",
      "-3.9931693392 H2O Log VMR for Press Lvl 71\n",
      "-3.9652486986 H2O Log VMR for Press Lvl 72\n",
      "101882.7734375000 Surface Pressure (Pascals)\n",
      "0.0000000000 Temperature Offset (Kelvin)\n",
      "-4.3820300000 Aerosol Shape kahn_2b Logarithmic Gaussian for Coefficient 1\n",
      "1.0000000000 Aerosol Shape kahn_2b Logarithmic Gaussian for Coefficient 2\n",
      "0.2000000000 Aerosol Shape kahn_2b Logarithmic Gaussian for Coefficient 3\n",
      "-4.3820300000 Aerosol Shape kahn_3b Logarithmic Gaussian for Coefficient 1\n",
      "1.0000000000 Aerosol Shape kahn_3b Logarithmic Gaussian for Coefficient 2\n",
      "0.2000000000 Aerosol Shape kahn_3b Logarithmic Gaussian for Coefficient 3\n",
      "-4.3820300000 Aerosol Shape water Logarithmic Gaussian for Coefficient 1\n",
      "0.7500000000 Aerosol Shape water Logarithmic Gaussian for Coefficient 2\n",
      "0.1000000000 Aerosol Shape water Logarithmic Gaussian for Coefficient 3\n",
      "-4.3820300000 Aerosol Shape ice Logarithmic Gaussian for Coefficient 1\n",
      "0.3000000000 Aerosol Shape ice Logarithmic Gaussian for Coefficient 2\n",
      "0.0400000000 Aerosol Shape ice Logarithmic Gaussian for Coefficient 3\n",
      "0.0393659956 Ground Lambertian A-Band Albedo Parm 1\n",
      "0.0000000000 Ground Lambertian A-Band Albedo Parm 2\n",
      "0.0219613015 Ground Lambertian WC-Band Albedo Parm 1\n",
      "0.0000000000 Ground Lambertian WC-Band Albedo Parm 2\n",
      "0.0151211423 Ground Lambertian SC-Band Albedo Parm 1\n",
      "0.0000000000 Ground Lambertian SC-Band Albedo Parm 2\n",
      "0.7576460006 Instrument Dispersion A-Band Offset\n",
      "0.0000174935 Instrument Dispersion A-Band Scale\n",
      "1.5905361718 Instrument Dispersion WC-Band Offset\n",
      "0.0000364470 Instrument Dispersion WC-Band Scale\n",
      "2.0429904260 Instrument Dispersion SC-Band Offset\n",
      "0.0000469338 Instrument Dispersion SC-Band Scale\n",
      "0.0000000000 EOF order 1 scale factor A-Band\n",
      "0.0000000000 EOF order 1 scale factor WC-Band\n",
      "0.0000000000 EOF order 1 scale factor SC-Band\n",
      "0.0000000000 EOF order 2 scale factor A-Band\n",
      "0.0000000000 EOF order 2 scale factor WC-Band\n",
      "0.0000000000 EOF order 2 scale factor SC-Band\n",
      "0.0000000000 EOF order 3 scale factor A-Band\n",
      "0.0000000000 EOF order 3 scale factor WC-Band\n",
      "0.0000000000 EOF order 3 scale factor SC-Band\n",
      "0.0000000000 Fluorescence Surface Coefficient 1\n",
      "0.0018000000 Fluorescence Surface Coefficient 2\n"
     ]
    }
   ],
   "source": [
    "for n, v in zip(sv.state_vector_name, sv.state):\n",
    "    print(\"%0.10f %s\" % (v,n))"
   ]
  },
  {
   "cell_type": "code",
   "execution_count": 56,
   "metadata": {},
   "outputs": [
    {
     "data": {
      "image/png": "[encoded data removed]",
      "text/plain": [
       "<Figure size 432x288 with 1 Axes>"
      ]
     },
     "metadata": {
      "needs_background": "light"
     },
     "output_type": "display_data"
    }
   ],
   "source": [
    "plot_fm(0)\n",
    "title(\"Radiance Initial\");"
   ]
  },
  {
   "cell_type": "code",
   "execution_count": 57,
   "metadata": {},
   "outputs": [
    {
     "name": "stdout",
     "output_type": "stream",
     "text": [
      "CPU times: user 4min 46s, sys: 3min 12s, total: 7min 59s\n",
      "Wall time: 7min 57s\n"
     ]
    }
   ],
   "source": [
    "%time solver.solve()"
   ]
  },
  {
   "cell_type": "code",
   "execution_count": 58,
   "metadata": {},
   "outputs": [
    {
     "data": {
      "text/plain": [
       "4"
      ]
     },
     "execution_count": 58,
     "metadata": {},
     "output_type": "execute_result"
    }
   ],
   "source": [
    "solver.num_accepted_steps"
   ]
  },
  {
   "cell_type": "code",
   "execution_count": 59,
   "metadata": {},
   "outputs": [
    {
     "data": {
      "text/plain": [
       "'SUCCESS'"
      ]
     },
     "execution_count": 59,
     "metadata": {},
     "output_type": "execute_result"
    }
   ],
   "source": [
    "solver.status_str"
   ]
  },
  {
   "cell_type": "code",
   "execution_count": 60,
   "metadata": {},
   "outputs": [
    {
     "data": {
      "text/plain": [
       "(588948.1064322738,\n",
       " 9929.587155043775,\n",
       " 121769.08519348098,\n",
       " 2069.4378013143532,\n",
       " 2094.804724117734)"
      ]
     },
     "execution_count": 60,
     "metadata": {},
     "output_type": "execute_result"
    }
   ],
   "source": [
    "solver.cost_at_accepted_points"
   ]
  },
  {
   "cell_type": "code",
   "execution_count": 61,
   "metadata": {
    "scrolled": false
   },
   "outputs": [
    {
     "name": "stdout",
     "output_type": "stream",
     "text": [
      "0.0003928983 CO2 VMR for Press Lvl 1\n",
      "0.0003996885 CO2 VMR for Press Lvl 2\n",
      "0.0004028537 CO2 VMR for Press Lvl 3\n",
      "0.0004032214 CO2 VMR for Press Lvl 4\n",
      "0.0004029814 CO2 VMR for Press Lvl 5\n",
      "0.0004027798 CO2 VMR for Press Lvl 6\n",
      "0.0004026734 CO2 VMR for Press Lvl 7\n",
      "0.0004025714 CO2 VMR for Press Lvl 8\n",
      "0.0004024448 CO2 VMR for Press Lvl 9\n",
      "0.0004023178 CO2 VMR for Press Lvl 10\n",
      "0.0004020524 CO2 VMR for Press Lvl 11\n",
      "0.0004017700 CO2 VMR for Press Lvl 12\n",
      "0.0004012816 CO2 VMR for Press Lvl 13\n",
      "0.0004007398 CO2 VMR for Press Lvl 14\n",
      "0.0003998888 CO2 VMR for Press Lvl 15\n",
      "0.0003990155 CO2 VMR for Press Lvl 16\n",
      "0.0003978634 CO2 VMR for Press Lvl 17\n",
      "0.0003968046 CO2 VMR for Press Lvl 18\n",
      "0.0003957444 CO2 VMR for Press Lvl 19\n",
      "0.0003953720 CO2 VMR for Press Lvl 20\n",
      "-12.4295777306 H2O Log VMR for Press Lvl 1\n",
      "-12.1649119675 H2O Log VMR for Press Lvl 2\n",
      "-12.0296920332 H2O Log VMR for Press Lvl 3\n",
      "-11.9846578163 H2O Log VMR for Press Lvl 4\n",
      "-11.9389941796 H2O Log VMR for Press Lvl 5\n",
      "-11.9158938562 H2O Log VMR for Press Lvl 6\n",
      "-11.9049690810 H2O Log VMR for Press Lvl 7\n",
      "-11.8955525384 H2O Log VMR for Press Lvl 8\n",
      "-11.8942702875 H2O Log VMR for Press Lvl 9\n",
      "-11.8943623268 H2O Log VMR for Press Lvl 10\n",
      "-11.8978012224 H2O Log VMR for Press Lvl 11\n",
      "-11.9023831202 H2O Log VMR for Press Lvl 12\n",
      "-11.9084462451 H2O Log VMR for Press Lvl 13\n",
      "-11.9158231810 H2O Log VMR for Press Lvl 14\n",
      "-11.9199107845 H2O Log VMR for Press Lvl 15\n",
      "-11.9264365234 H2O Log VMR for Press Lvl 16\n",
      "-11.9347839753 H2O Log VMR for Press Lvl 17\n",
      "-11.9425805353 H2O Log VMR for Press Lvl 18\n",
      "-11.9551681868 H2O Log VMR for Press Lvl 19\n",
      "-11.9827128456 H2O Log VMR for Press Lvl 20\n",
      "-12.0221972545 H2O Log VMR for Press Lvl 21\n",
      "-12.0699765230 H2O Log VMR for Press Lvl 22\n",
      "-12.1133875588 H2O Log VMR for Press Lvl 23\n",
      "-12.1613225779 H2O Log VMR for Press Lvl 24\n",
      "-12.2106433128 H2O Log VMR for Press Lvl 25\n",
      "-12.2362888868 H2O Log VMR for Press Lvl 26\n",
      "-12.2603055301 H2O Log VMR for Press Lvl 27\n",
      "-12.2788493997 H2O Log VMR for Press Lvl 28\n",
      "-12.2820618607 H2O Log VMR for Press Lvl 29\n",
      "-12.2824379907 H2O Log VMR for Press Lvl 30\n",
      "-12.2880279999 H2O Log VMR for Press Lvl 31\n",
      "-12.2992818106 H2O Log VMR for Press Lvl 32\n",
      "-12.3094041979 H2O Log VMR for Press Lvl 33\n",
      "-12.3249630589 H2O Log VMR for Press Lvl 34\n",
      "-12.3554558580 H2O Log VMR for Press Lvl 35\n",
      "-12.3501912033 H2O Log VMR for Press Lvl 36\n",
      "-12.2178543463 H2O Log VMR for Press Lvl 37\n",
      "-12.0649063895 H2O Log VMR for Press Lvl 38\n",
      "-11.7377661751 H2O Log VMR for Press Lvl 39\n",
      "-11.4270237441 H2O Log VMR for Press Lvl 40\n",
      "-11.2184621871 H2O Log VMR for Press Lvl 41\n",
      "-9.6725314910 H2O Log VMR for Press Lvl 42\n",
      "-9.2390454090 H2O Log VMR for Press Lvl 43\n",
      "-8.9772572663 H2O Log VMR for Press Lvl 44\n",
      "-9.2428523779 H2O Log VMR for Press Lvl 45\n",
      "-9.2792347767 H2O Log VMR for Press Lvl 46\n",
      "-9.0102777188 H2O Log VMR for Press Lvl 47\n",
      "-8.9123719189 H2O Log VMR for Press Lvl 48\n",
      "-9.0875481867 H2O Log VMR for Press Lvl 49\n",
      "-8.5546676251 H2O Log VMR for Press Lvl 50\n",
      "-8.1629423587 H2O Log VMR for Press Lvl 51\n",
      "-7.9702813441 H2O Log VMR for Press Lvl 52\n",
      "-7.4540206272 H2O Log VMR for Press Lvl 53\n",
      "-7.2381169745 H2O Log VMR for Press Lvl 54\n",
      "-7.1303803019 H2O Log VMR for Press Lvl 55\n",
      "-6.7641872932 H2O Log VMR for Press Lvl 56\n",
      "-5.7661947692 H2O Log VMR for Press Lvl 57\n",
      "-5.4735320314 H2O Log VMR for Press Lvl 58\n",
      "-5.0494673007 H2O Log VMR for Press Lvl 59\n",
      "-4.6477489587 H2O Log VMR for Press Lvl 60\n",
      "-4.3754989861 H2O Log VMR for Press Lvl 61\n",
      "-4.2764813227 H2O Log VMR for Press Lvl 62\n",
      "-4.2753289173 H2O Log VMR for Press Lvl 63\n",
      "-4.2885765108 H2O Log VMR for Press Lvl 64\n",
      "-4.2840559753 H2O Log VMR for Press Lvl 65\n",
      "-4.2354813201 H2O Log VMR for Press Lvl 66\n",
      "-4.1810545580 H2O Log VMR for Press Lvl 67\n",
      "-4.1452241744 H2O Log VMR for Press Lvl 68\n",
      "-4.1269483675 H2O Log VMR for Press Lvl 69\n",
      "-4.1152614955 H2O Log VMR for Press Lvl 70\n",
      "-4.0906882709 H2O Log VMR for Press Lvl 71\n",
      "-4.0795845203 H2O Log VMR for Press Lvl 72\n",
      "102134.3923608676 Surface Pressure (Pascals)\n",
      "-0.6020662669 Temperature Offset (Kelvin)\n",
      "-3.6944879700 Aerosol Shape kahn_2b Logarithmic Gaussian for Coefficient 1\n",
      "1.0575833617 Aerosol Shape kahn_2b Logarithmic Gaussian for Coefficient 2\n",
      "0.1999890849 Aerosol Shape kahn_2b Logarithmic Gaussian for Coefficient 3\n",
      "-2.1344632367 Aerosol Shape kahn_3b Logarithmic Gaussian for Coefficient 1\n",
      "1.0027437728 Aerosol Shape kahn_3b Logarithmic Gaussian for Coefficient 2\n",
      "0.2001232566 Aerosol Shape kahn_3b Logarithmic Gaussian for Coefficient 3\n",
      "-3.1466296909 Aerosol Shape water Logarithmic Gaussian for Coefficient 1\n",
      "1.0142054776 Aerosol Shape water Logarithmic Gaussian for Coefficient 2\n",
      "0.0997032835 Aerosol Shape water Logarithmic Gaussian for Coefficient 3\n",
      "-4.6507362035 Aerosol Shape ice Logarithmic Gaussian for Coefficient 1\n",
      "-0.0290309618 Aerosol Shape ice Logarithmic Gaussian for Coefficient 2\n",
      "0.0402934372 Aerosol Shape ice Logarithmic Gaussian for Coefficient 3\n",
      "0.0206322645 Ground Lambertian A-Band Albedo Parm 1\n",
      "0.0000046431 Ground Lambertian A-Band Albedo Parm 2\n",
      "0.0154517400 Ground Lambertian WC-Band Albedo Parm 1\n",
      "0.0000059654 Ground Lambertian WC-Band Albedo Parm 2\n",
      "0.0130493934 Ground Lambertian SC-Band Albedo Parm 1\n",
      "0.0000047522 Ground Lambertian SC-Band Albedo Parm 2\n",
      "0.7576462159 Instrument Dispersion A-Band Offset\n",
      "0.0000174930 Instrument Dispersion A-Band Scale\n",
      "1.5905381349 Instrument Dispersion WC-Band Offset\n",
      "0.0000364455 Instrument Dispersion WC-Band Scale\n",
      "2.0429931643 Instrument Dispersion SC-Band Offset\n",
      "0.0000469320 Instrument Dispersion SC-Band Scale\n",
      "-0.0035207858 EOF order 1 scale factor A-Band\n",
      "-0.0027675941 EOF order 1 scale factor WC-Band\n",
      "-0.0004987736 EOF order 1 scale factor SC-Band\n",
      "-0.0014897570 EOF order 2 scale factor A-Band\n",
      "0.0002073454 EOF order 2 scale factor WC-Band\n",
      "0.0002803389 EOF order 2 scale factor SC-Band\n",
      "-0.0057885499 EOF order 3 scale factor A-Band\n",
      "-0.0014129520 EOF order 3 scale factor WC-Band\n",
      "-0.0000000153 EOF order 3 scale factor SC-Band\n",
      "-0.0000000000 Fluorescence Surface Coefficient 1\n",
      "0.0018000000 Fluorescence Surface Coefficient 2\n"
     ]
    }
   ],
   "source": [
    "for n, v in zip(sv.state_vector_name, sv.state):\n",
    "    print(\"%0.10f %s\" % (v,n))"
   ]
  },
  {
   "cell_type": "code",
   "execution_count": 62,
   "metadata": {},
   "outputs": [
    {
     "data": {
      "image/png": "[encoded data removed]",
      "text/plain": [
       "<Figure size 432x288 with 1 Axes>"
      ]
     },
     "metadata": {
      "needs_background": "light"
     },
     "output_type": "display_data"
    }
   ],
   "source": [
    "plot_fm(0)\n",
    "title(\"Radiance Post Retrieval\");"
   ]
  },
  {
   "cell_type": "code",
   "execution_count": null,
   "metadata": {},
   "outputs": [],
   "source": []
  }
 ],
 "metadata": {
  "kernelspec": {
   "display_name": "Python 3",
   "language": "python",
   "name": "python3"
  },
  "language_info": {
   "codemirror_mode": {
    "name": "ipython",
    "version": 3
   },
   "file_extension": ".py",
   "mimetype": "text/x-python",
   "name": "python",
   "nbconvert_exporter": "python",
   "pygments_lexer": "ipython3",
   "version": "3.6.5"
  },
  "widgets": {
   "state": {},
   "version": "1.1.1"
  }
 },
 "nbformat": 4,
 "nbformat_minor": 2
}
